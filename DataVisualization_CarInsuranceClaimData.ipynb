{
 "cells": [
  {
   "cell_type": "code",
   "execution_count": 1,
   "metadata": {},
   "outputs": [],
   "source": [
    "#Importing libraries\n",
    "\n",
    "from re import sub\n",
    "from decimal import Decimal\n",
    "import pandas as pd\n",
    "import numpy as np\n",
    "import seaborn as sns\n",
    "import matplotlib.pyplot as plt\n",
    "from scipy import stats"
   ]
  },
  {
   "cell_type": "markdown",
   "metadata": {},
   "source": [
    "# Data Loading"
   ]
  },
  {
   "cell_type": "code",
   "execution_count": 2,
   "metadata": {},
   "outputs": [
    {
     "data": {
      "text/html": [
       "<div>\n",
       "<style scoped>\n",
       "    .dataframe tbody tr th:only-of-type {\n",
       "        vertical-align: middle;\n",
       "    }\n",
       "\n",
       "    .dataframe tbody tr th {\n",
       "        vertical-align: top;\n",
       "    }\n",
       "\n",
       "    .dataframe thead th {\n",
       "        text-align: right;\n",
       "    }\n",
       "</style>\n",
       "<table border=\"1\" class=\"dataframe\">\n",
       "  <thead>\n",
       "    <tr style=\"text-align: right;\">\n",
       "      <th></th>\n",
       "      <th>ID</th>\n",
       "      <th>KIDSDRIV</th>\n",
       "      <th>BIRTH</th>\n",
       "      <th>AGE</th>\n",
       "      <th>HOMEKIDS</th>\n",
       "      <th>YOJ</th>\n",
       "      <th>INCOME</th>\n",
       "      <th>PARENT1</th>\n",
       "      <th>HOME_VAL</th>\n",
       "      <th>MSTATUS</th>\n",
       "      <th>...</th>\n",
       "      <th>CAR_TYPE</th>\n",
       "      <th>RED_CAR</th>\n",
       "      <th>OLDCLAIM</th>\n",
       "      <th>CLM_FREQ</th>\n",
       "      <th>REVOKED</th>\n",
       "      <th>MVR_PTS</th>\n",
       "      <th>CLM_AMT</th>\n",
       "      <th>CAR_AGE</th>\n",
       "      <th>CLAIM_FLAG</th>\n",
       "      <th>URBANICITY</th>\n",
       "    </tr>\n",
       "  </thead>\n",
       "  <tbody>\n",
       "    <tr>\n",
       "      <td>0</td>\n",
       "      <td>63581743</td>\n",
       "      <td>0</td>\n",
       "      <td>16MAR39</td>\n",
       "      <td>60.0</td>\n",
       "      <td>0</td>\n",
       "      <td>11.0</td>\n",
       "      <td>$67,349</td>\n",
       "      <td>No</td>\n",
       "      <td>$0</td>\n",
       "      <td>z_No</td>\n",
       "      <td>...</td>\n",
       "      <td>Minivan</td>\n",
       "      <td>yes</td>\n",
       "      <td>$4,461</td>\n",
       "      <td>2</td>\n",
       "      <td>No</td>\n",
       "      <td>3</td>\n",
       "      <td>$0</td>\n",
       "      <td>18.0</td>\n",
       "      <td>0</td>\n",
       "      <td>Highly Urban/ Urban</td>\n",
       "    </tr>\n",
       "    <tr>\n",
       "      <td>1</td>\n",
       "      <td>132761049</td>\n",
       "      <td>0</td>\n",
       "      <td>21JAN56</td>\n",
       "      <td>43.0</td>\n",
       "      <td>0</td>\n",
       "      <td>11.0</td>\n",
       "      <td>$91,449</td>\n",
       "      <td>No</td>\n",
       "      <td>$257,252</td>\n",
       "      <td>z_No</td>\n",
       "      <td>...</td>\n",
       "      <td>Minivan</td>\n",
       "      <td>yes</td>\n",
       "      <td>$0</td>\n",
       "      <td>0</td>\n",
       "      <td>No</td>\n",
       "      <td>0</td>\n",
       "      <td>$0</td>\n",
       "      <td>1.0</td>\n",
       "      <td>0</td>\n",
       "      <td>Highly Urban/ Urban</td>\n",
       "    </tr>\n",
       "    <tr>\n",
       "      <td>2</td>\n",
       "      <td>921317019</td>\n",
       "      <td>0</td>\n",
       "      <td>18NOV51</td>\n",
       "      <td>48.0</td>\n",
       "      <td>0</td>\n",
       "      <td>11.0</td>\n",
       "      <td>$52,881</td>\n",
       "      <td>No</td>\n",
       "      <td>$0</td>\n",
       "      <td>z_No</td>\n",
       "      <td>...</td>\n",
       "      <td>Van</td>\n",
       "      <td>yes</td>\n",
       "      <td>$0</td>\n",
       "      <td>0</td>\n",
       "      <td>No</td>\n",
       "      <td>2</td>\n",
       "      <td>$0</td>\n",
       "      <td>10.0</td>\n",
       "      <td>0</td>\n",
       "      <td>Highly Urban/ Urban</td>\n",
       "    </tr>\n",
       "    <tr>\n",
       "      <td>3</td>\n",
       "      <td>727598473</td>\n",
       "      <td>0</td>\n",
       "      <td>05MAR64</td>\n",
       "      <td>35.0</td>\n",
       "      <td>1</td>\n",
       "      <td>10.0</td>\n",
       "      <td>$16,039</td>\n",
       "      <td>No</td>\n",
       "      <td>$124,191</td>\n",
       "      <td>Yes</td>\n",
       "      <td>...</td>\n",
       "      <td>z_SUV</td>\n",
       "      <td>no</td>\n",
       "      <td>$38,690</td>\n",
       "      <td>2</td>\n",
       "      <td>No</td>\n",
       "      <td>3</td>\n",
       "      <td>$0</td>\n",
       "      <td>10.0</td>\n",
       "      <td>0</td>\n",
       "      <td>Highly Urban/ Urban</td>\n",
       "    </tr>\n",
       "    <tr>\n",
       "      <td>4</td>\n",
       "      <td>450221861</td>\n",
       "      <td>0</td>\n",
       "      <td>05JUN48</td>\n",
       "      <td>51.0</td>\n",
       "      <td>0</td>\n",
       "      <td>14.0</td>\n",
       "      <td>NaN</td>\n",
       "      <td>No</td>\n",
       "      <td>$306,251</td>\n",
       "      <td>Yes</td>\n",
       "      <td>...</td>\n",
       "      <td>Minivan</td>\n",
       "      <td>yes</td>\n",
       "      <td>$0</td>\n",
       "      <td>0</td>\n",
       "      <td>No</td>\n",
       "      <td>0</td>\n",
       "      <td>$0</td>\n",
       "      <td>6.0</td>\n",
       "      <td>0</td>\n",
       "      <td>Highly Urban/ Urban</td>\n",
       "    </tr>\n",
       "  </tbody>\n",
       "</table>\n",
       "<p>5 rows × 27 columns</p>\n",
       "</div>"
      ],
      "text/plain": [
       "          ID  KIDSDRIV    BIRTH   AGE  HOMEKIDS   YOJ   INCOME PARENT1  \\\n",
       "0   63581743         0  16MAR39  60.0         0  11.0  $67,349      No   \n",
       "1  132761049         0  21JAN56  43.0         0  11.0  $91,449      No   \n",
       "2  921317019         0  18NOV51  48.0         0  11.0  $52,881      No   \n",
       "3  727598473         0  05MAR64  35.0         1  10.0  $16,039      No   \n",
       "4  450221861         0  05JUN48  51.0         0  14.0      NaN      No   \n",
       "\n",
       "   HOME_VAL MSTATUS  ... CAR_TYPE RED_CAR OLDCLAIM  CLM_FREQ REVOKED MVR_PTS  \\\n",
       "0        $0    z_No  ...  Minivan     yes   $4,461         2      No       3   \n",
       "1  $257,252    z_No  ...  Minivan     yes       $0         0      No       0   \n",
       "2        $0    z_No  ...      Van     yes       $0         0      No       2   \n",
       "3  $124,191     Yes  ...    z_SUV      no  $38,690         2      No       3   \n",
       "4  $306,251     Yes  ...  Minivan     yes       $0         0      No       0   \n",
       "\n",
       "   CLM_AMT CAR_AGE CLAIM_FLAG           URBANICITY  \n",
       "0       $0    18.0          0  Highly Urban/ Urban  \n",
       "1       $0     1.0          0  Highly Urban/ Urban  \n",
       "2       $0    10.0          0  Highly Urban/ Urban  \n",
       "3       $0    10.0          0  Highly Urban/ Urban  \n",
       "4       $0     6.0          0  Highly Urban/ Urban  \n",
       "\n",
       "[5 rows x 27 columns]"
      ]
     },
     "execution_count": 2,
     "metadata": {},
     "output_type": "execute_result"
    }
   ],
   "source": [
    "def loadData(filepath):\n",
    "    ''' loadData function will load csv data \n",
    "    files and return loaded data    '''\n",
    "    \n",
    "    data = pd.read_csv(filepath)\n",
    "    return data\n",
    "    \n",
    "DF = loadData(\"car_insurance_claim.csv\")\n",
    "DF.head()"
   ]
  },
  {
   "cell_type": "markdown",
   "metadata": {},
   "source": [
    "# Data Preprocessing"
   ]
  },
  {
   "cell_type": "markdown",
   "metadata": {},
   "source": [
    "Detect and Remove missing values "
   ]
  },
  {
   "cell_type": "code",
   "execution_count": 3,
   "metadata": {},
   "outputs": [
    {
     "name": "stdout",
     "output_type": "stream",
     "text": [
      "ID              0\n",
      "KIDSDRIV        0\n",
      "BIRTH           0\n",
      "AGE             7\n",
      "HOMEKIDS        0\n",
      "YOJ           548\n",
      "INCOME        570\n",
      "PARENT1         0\n",
      "HOME_VAL      575\n",
      "MSTATUS         0\n",
      "GENDER          0\n",
      "EDUCATION       0\n",
      "OCCUPATION    665\n",
      "TRAVTIME        0\n",
      "CAR_USE         0\n",
      "BLUEBOOK        0\n",
      "TIF             0\n",
      "CAR_TYPE        0\n",
      "RED_CAR         0\n",
      "OLDCLAIM        0\n",
      "CLM_FREQ        0\n",
      "REVOKED         0\n",
      "MVR_PTS         0\n",
      "CLM_AMT         0\n",
      "CAR_AGE       639\n",
      "CLAIM_FLAG      0\n",
      "URBANICITY      0\n",
      "dtype: int64\n"
     ]
    }
   ],
   "source": [
    "# Detect Missing Values and print count \n",
    "# of missing values in columns of data\n",
    "print(DF.isna().sum())"
   ]
  },
  {
   "cell_type": "code",
   "execution_count": 4,
   "metadata": {},
   "outputs": [
    {
     "name": "stdout",
     "output_type": "stream",
     "text": [
      "---  Removing Missing values  ---\n",
      "ID              0\n",
      "KIDSDRIV        0\n",
      "BIRTH           0\n",
      "AGE             0\n",
      "HOMEKIDS        0\n",
      "YOJ           488\n",
      "INCOME          0\n",
      "PARENT1         0\n",
      "HOME_VAL        0\n",
      "MSTATUS         0\n",
      "GENDER          0\n",
      "EDUCATION       0\n",
      "OCCUPATION    584\n",
      "TRAVTIME        0\n",
      "CAR_USE         0\n",
      "BLUEBOOK        0\n",
      "TIF             0\n",
      "CAR_TYPE        0\n",
      "RED_CAR         0\n",
      "OLDCLAIM        0\n",
      "CLM_FREQ        0\n",
      "REVOKED         0\n",
      "MVR_PTS         0\n",
      "CLM_AMT         0\n",
      "CAR_AGE       563\n",
      "CLAIM_FLAG      0\n",
      "URBANICITY      0\n",
      "dtype: int64\n"
     ]
    }
   ],
   "source": [
    "#Remove missing values using dropna function\n",
    "\n",
    "DF = DF.dropna(subset = ['INCOME'],\n",
    "               how = 'any')\n",
    "DF = DF.dropna(subset = ['HOME_VAL'],\n",
    "               how = 'any')\n",
    "DF = DF.dropna(subset = ['AGE'],\n",
    "               how = 'any')\n",
    "\n",
    "print(\"---  Removing Missing values  ---\")\n",
    "print(DF.isna().sum())"
   ]
  },
  {
   "cell_type": "code",
   "execution_count": 5,
   "metadata": {},
   "outputs": [
    {
     "name": "stdout",
     "output_type": "stream",
     "text": [
      "---  Filling Nan Values  ---\n",
      "ID            0\n",
      "KIDSDRIV      0\n",
      "BIRTH         0\n",
      "AGE           0\n",
      "HOMEKIDS      0\n",
      "YOJ           0\n",
      "INCOME        0\n",
      "PARENT1       0\n",
      "HOME_VAL      0\n",
      "MSTATUS       0\n",
      "GENDER        0\n",
      "EDUCATION     0\n",
      "OCCUPATION    0\n",
      "TRAVTIME      0\n",
      "CAR_USE       0\n",
      "BLUEBOOK      0\n",
      "TIF           0\n",
      "CAR_TYPE      0\n",
      "RED_CAR       0\n",
      "OLDCLAIM      0\n",
      "CLM_FREQ      0\n",
      "REVOKED       0\n",
      "MVR_PTS       0\n",
      "CLM_AMT       0\n",
      "CAR_AGE       0\n",
      "CLAIM_FLAG    0\n",
      "URBANICITY    0\n",
      "dtype: int64\n"
     ]
    }
   ],
   "source": [
    "#Fill NAN Values by using mode of the column\n",
    "\n",
    "DF['YOJ'].fillna(\n",
    "    stats.mode(DF['YOJ'])[0][0],\n",
    "    inplace = True)\n",
    "DF['OCCUPATION'].fillna(\n",
    "    stats.mode(DF['OCCUPATION'])[0][0],\n",
    "    inplace = True)\n",
    "DF['CAR_AGE'].fillna(\n",
    "    stats.mode(DF['CAR_AGE'])[0][0],\n",
    "    inplace = True)\n",
    "\n",
    "print(\"---  Filling Nan Values  ---\")\n",
    "print(DF.isna().sum())"
   ]
  },
  {
   "cell_type": "markdown",
   "metadata": {},
   "source": [
    "Format the data for Computations"
   ]
  },
  {
   "cell_type": "code",
   "execution_count": 6,
   "metadata": {},
   "outputs": [],
   "source": [
    "def convertMoney(x):\n",
    "    ''' Format the Money data into numeric values for computations\n",
    "    like $67,349 to 67349 '''\n",
    "    number = Decimal(sub(r'[^\\d.]', '', x))\n",
    "    return number"
   ]
  },
  {
   "cell_type": "code",
   "execution_count": 7,
   "metadata": {},
   "outputs": [],
   "source": [
    "# Apply convertMoney function to all the columns having money data \n",
    "\n",
    "DF['INCOME_'] = DF['INCOME'].apply(lambda x: convertMoney(x))\n",
    "DF['HOME_VAL_'] = DF['HOME_VAL'].apply(lambda x: convertMoney(x))\n",
    "DF['BLUEBOOK_'] = DF['BLUEBOOK'].apply(lambda x: convertMoney(x))\n",
    "DF['OLDCLAIM_'] = DF['OLDCLAIM'].apply(lambda x: convertMoney(x))\n",
    "DF['CLM_AMT_'] = DF['CLM_AMT'].apply(lambda x: convertMoney(x))\n",
    "\n",
    "# set datatype to float\n",
    "DF['INCOME_'] = DF['INCOME_'].astype('float64')\n",
    "DF['HOME_VAL_'] = DF['HOME_VAL_'].astype('float64')\n",
    "DF['BLUEBOOK_'] = DF['BLUEBOOK_'].astype('float64')\n",
    "DF['OLDCLAIM_'] = DF['OLDCLAIM_'].astype('float64')\n",
    "DF['CLM_AMT_'] = DF['CLM_AMT_'].astype('float64')\n"
   ]
  },
  {
   "cell_type": "code",
   "execution_count": 8,
   "metadata": {},
   "outputs": [
    {
     "data": {
      "text/html": [
       "<div>\n",
       "<style scoped>\n",
       "    .dataframe tbody tr th:only-of-type {\n",
       "        vertical-align: middle;\n",
       "    }\n",
       "\n",
       "    .dataframe tbody tr th {\n",
       "        vertical-align: top;\n",
       "    }\n",
       "\n",
       "    .dataframe thead th {\n",
       "        text-align: right;\n",
       "    }\n",
       "</style>\n",
       "<table border=\"1\" class=\"dataframe\">\n",
       "  <thead>\n",
       "    <tr style=\"text-align: right;\">\n",
       "      <th></th>\n",
       "      <th>ID</th>\n",
       "      <th>KIDSDRIV</th>\n",
       "      <th>BIRTH</th>\n",
       "      <th>AGE</th>\n",
       "      <th>HOMEKIDS</th>\n",
       "      <th>YOJ</th>\n",
       "      <th>PARENT1</th>\n",
       "      <th>MSTATUS</th>\n",
       "      <th>GENDER</th>\n",
       "      <th>EDUCATION</th>\n",
       "      <th>...</th>\n",
       "      <th>REVOKED</th>\n",
       "      <th>MVR_PTS</th>\n",
       "      <th>CAR_AGE</th>\n",
       "      <th>CLAIM_FLAG</th>\n",
       "      <th>URBANICITY</th>\n",
       "      <th>INCOME_</th>\n",
       "      <th>HOME_VAL_</th>\n",
       "      <th>BLUEBOOK_</th>\n",
       "      <th>OLDCLAIM_</th>\n",
       "      <th>CLM_AMT_</th>\n",
       "    </tr>\n",
       "  </thead>\n",
       "  <tbody>\n",
       "    <tr>\n",
       "      <td>0</td>\n",
       "      <td>63581743</td>\n",
       "      <td>0</td>\n",
       "      <td>16MAR39</td>\n",
       "      <td>60.0</td>\n",
       "      <td>0</td>\n",
       "      <td>11.0</td>\n",
       "      <td>No</td>\n",
       "      <td>z_No</td>\n",
       "      <td>M</td>\n",
       "      <td>PhD</td>\n",
       "      <td>...</td>\n",
       "      <td>No</td>\n",
       "      <td>3</td>\n",
       "      <td>18.0</td>\n",
       "      <td>0</td>\n",
       "      <td>Highly Urban/ Urban</td>\n",
       "      <td>67349.0</td>\n",
       "      <td>0.0</td>\n",
       "      <td>14230.0</td>\n",
       "      <td>4461.0</td>\n",
       "      <td>0.0</td>\n",
       "    </tr>\n",
       "    <tr>\n",
       "      <td>1</td>\n",
       "      <td>132761049</td>\n",
       "      <td>0</td>\n",
       "      <td>21JAN56</td>\n",
       "      <td>43.0</td>\n",
       "      <td>0</td>\n",
       "      <td>11.0</td>\n",
       "      <td>No</td>\n",
       "      <td>z_No</td>\n",
       "      <td>M</td>\n",
       "      <td>z_High School</td>\n",
       "      <td>...</td>\n",
       "      <td>No</td>\n",
       "      <td>0</td>\n",
       "      <td>1.0</td>\n",
       "      <td>0</td>\n",
       "      <td>Highly Urban/ Urban</td>\n",
       "      <td>91449.0</td>\n",
       "      <td>257252.0</td>\n",
       "      <td>14940.0</td>\n",
       "      <td>0.0</td>\n",
       "      <td>0.0</td>\n",
       "    </tr>\n",
       "    <tr>\n",
       "      <td>2</td>\n",
       "      <td>921317019</td>\n",
       "      <td>0</td>\n",
       "      <td>18NOV51</td>\n",
       "      <td>48.0</td>\n",
       "      <td>0</td>\n",
       "      <td>11.0</td>\n",
       "      <td>No</td>\n",
       "      <td>z_No</td>\n",
       "      <td>M</td>\n",
       "      <td>Bachelors</td>\n",
       "      <td>...</td>\n",
       "      <td>No</td>\n",
       "      <td>2</td>\n",
       "      <td>10.0</td>\n",
       "      <td>0</td>\n",
       "      <td>Highly Urban/ Urban</td>\n",
       "      <td>52881.0</td>\n",
       "      <td>0.0</td>\n",
       "      <td>21970.0</td>\n",
       "      <td>0.0</td>\n",
       "      <td>0.0</td>\n",
       "    </tr>\n",
       "    <tr>\n",
       "      <td>3</td>\n",
       "      <td>727598473</td>\n",
       "      <td>0</td>\n",
       "      <td>05MAR64</td>\n",
       "      <td>35.0</td>\n",
       "      <td>1</td>\n",
       "      <td>10.0</td>\n",
       "      <td>No</td>\n",
       "      <td>Yes</td>\n",
       "      <td>z_F</td>\n",
       "      <td>z_High School</td>\n",
       "      <td>...</td>\n",
       "      <td>No</td>\n",
       "      <td>3</td>\n",
       "      <td>10.0</td>\n",
       "      <td>0</td>\n",
       "      <td>Highly Urban/ Urban</td>\n",
       "      <td>16039.0</td>\n",
       "      <td>124191.0</td>\n",
       "      <td>4010.0</td>\n",
       "      <td>38690.0</td>\n",
       "      <td>0.0</td>\n",
       "    </tr>\n",
       "    <tr>\n",
       "      <td>5</td>\n",
       "      <td>743146596</td>\n",
       "      <td>0</td>\n",
       "      <td>17MAY49</td>\n",
       "      <td>50.0</td>\n",
       "      <td>0</td>\n",
       "      <td>12.0</td>\n",
       "      <td>No</td>\n",
       "      <td>Yes</td>\n",
       "      <td>z_F</td>\n",
       "      <td>PhD</td>\n",
       "      <td>...</td>\n",
       "      <td>Yes</td>\n",
       "      <td>3</td>\n",
       "      <td>17.0</td>\n",
       "      <td>0</td>\n",
       "      <td>Highly Urban/ Urban</td>\n",
       "      <td>114986.0</td>\n",
       "      <td>243925.0</td>\n",
       "      <td>18000.0</td>\n",
       "      <td>19217.0</td>\n",
       "      <td>0.0</td>\n",
       "    </tr>\n",
       "  </tbody>\n",
       "</table>\n",
       "<p>5 rows × 27 columns</p>\n",
       "</div>"
      ],
      "text/plain": [
       "          ID  KIDSDRIV    BIRTH   AGE  HOMEKIDS   YOJ PARENT1 MSTATUS GENDER  \\\n",
       "0   63581743         0  16MAR39  60.0         0  11.0      No    z_No      M   \n",
       "1  132761049         0  21JAN56  43.0         0  11.0      No    z_No      M   \n",
       "2  921317019         0  18NOV51  48.0         0  11.0      No    z_No      M   \n",
       "3  727598473         0  05MAR64  35.0         1  10.0      No     Yes    z_F   \n",
       "5  743146596         0  17MAY49  50.0         0  12.0      No     Yes    z_F   \n",
       "\n",
       "       EDUCATION  ... REVOKED  MVR_PTS CAR_AGE  CLAIM_FLAG  \\\n",
       "0            PhD  ...      No        3    18.0           0   \n",
       "1  z_High School  ...      No        0     1.0           0   \n",
       "2      Bachelors  ...      No        2    10.0           0   \n",
       "3  z_High School  ...      No        3    10.0           0   \n",
       "5            PhD  ...     Yes        3    17.0           0   \n",
       "\n",
       "            URBANICITY   INCOME_  HOME_VAL_ BLUEBOOK_  OLDCLAIM_  CLM_AMT_  \n",
       "0  Highly Urban/ Urban   67349.0        0.0   14230.0     4461.0       0.0  \n",
       "1  Highly Urban/ Urban   91449.0   257252.0   14940.0        0.0       0.0  \n",
       "2  Highly Urban/ Urban   52881.0        0.0   21970.0        0.0       0.0  \n",
       "3  Highly Urban/ Urban   16039.0   124191.0    4010.0    38690.0       0.0  \n",
       "5  Highly Urban/ Urban  114986.0   243925.0   18000.0    19217.0       0.0  \n",
       "\n",
       "[5 rows x 27 columns]"
      ]
     },
     "execution_count": 8,
     "metadata": {},
     "output_type": "execute_result"
    }
   ],
   "source": [
    "# Drop old columns having unformatted data\n",
    "DF = DF.drop(['INCOME', 'HOME_VAL', 'BLUEBOOK', 'OLDCLAIM', 'CLM_AMT'], axis = 1)\n",
    "DF.head()"
   ]
  },
  {
   "cell_type": "markdown",
   "metadata": {},
   "source": [
    "# Data Visualization"
   ]
  },
  {
   "cell_type": "markdown",
   "metadata": {},
   "source": [
    "Car Details"
   ]
  },
  {
   "cell_type": "code",
   "execution_count": 9,
   "metadata": {},
   "outputs": [
    {
     "data": {
      "text/html": [
       "<div>\n",
       "<style scoped>\n",
       "    .dataframe tbody tr th:only-of-type {\n",
       "        vertical-align: middle;\n",
       "    }\n",
       "\n",
       "    .dataframe tbody tr th {\n",
       "        vertical-align: top;\n",
       "    }\n",
       "\n",
       "    .dataframe thead th {\n",
       "        text-align: right;\n",
       "    }\n",
       "</style>\n",
       "<table border=\"1\" class=\"dataframe\">\n",
       "  <thead>\n",
       "    <tr style=\"text-align: right;\">\n",
       "      <th></th>\n",
       "      <th>CAR_TYPE</th>\n",
       "      <th>CAR_USE</th>\n",
       "      <th>URBANICITY</th>\n",
       "      <th>TRAVTIME</th>\n",
       "      <th>CAR_AGE</th>\n",
       "    </tr>\n",
       "  </thead>\n",
       "  <tbody>\n",
       "    <tr>\n",
       "      <td>0</td>\n",
       "      <td>Minivan</td>\n",
       "      <td>Private</td>\n",
       "      <td>Highly Urban/ Urban</td>\n",
       "      <td>14</td>\n",
       "      <td>18.0</td>\n",
       "    </tr>\n",
       "    <tr>\n",
       "      <td>1</td>\n",
       "      <td>Minivan</td>\n",
       "      <td>Commercial</td>\n",
       "      <td>Highly Urban/ Urban</td>\n",
       "      <td>22</td>\n",
       "      <td>1.0</td>\n",
       "    </tr>\n",
       "    <tr>\n",
       "      <td>2</td>\n",
       "      <td>Van</td>\n",
       "      <td>Private</td>\n",
       "      <td>Highly Urban/ Urban</td>\n",
       "      <td>26</td>\n",
       "      <td>10.0</td>\n",
       "    </tr>\n",
       "    <tr>\n",
       "      <td>3</td>\n",
       "      <td>z_SUV</td>\n",
       "      <td>Private</td>\n",
       "      <td>Highly Urban/ Urban</td>\n",
       "      <td>5</td>\n",
       "      <td>10.0</td>\n",
       "    </tr>\n",
       "    <tr>\n",
       "      <td>5</td>\n",
       "      <td>z_SUV</td>\n",
       "      <td>Private</td>\n",
       "      <td>Highly Urban/ Urban</td>\n",
       "      <td>36</td>\n",
       "      <td>17.0</td>\n",
       "    </tr>\n",
       "  </tbody>\n",
       "</table>\n",
       "</div>"
      ],
      "text/plain": [
       "  CAR_TYPE     CAR_USE           URBANICITY  TRAVTIME  CAR_AGE\n",
       "0  Minivan     Private  Highly Urban/ Urban        14     18.0\n",
       "1  Minivan  Commercial  Highly Urban/ Urban        22      1.0\n",
       "2      Van     Private  Highly Urban/ Urban        26     10.0\n",
       "3    z_SUV     Private  Highly Urban/ Urban         5     10.0\n",
       "5    z_SUV     Private  Highly Urban/ Urban        36     17.0"
      ]
     },
     "execution_count": 9,
     "metadata": {},
     "output_type": "execute_result"
    }
   ],
   "source": [
    "# Details of car\n",
    "car_data = DF[['CAR_TYPE', 'CAR_USE','URBANICITY','TRAVTIME','CAR_AGE']]\n",
    "car_data.head()"
   ]
  },
  {
   "cell_type": "code",
   "execution_count": 10,
   "metadata": {},
   "outputs": [
    {
     "data": {
      "image/png": "[encoded data removed]",
      "text/plain": [
       "<Figure size 432x288 with 1 Axes>"
      ]
     },
     "metadata": {
      "needs_background": "light"
     },
     "output_type": "display_data"
    }
   ],
   "source": [
    "# Total insured cars used in commercial and private sectors\n",
    "carUsagePlot = sns.countplot(data = DF, x = 'CAR_USE')"
   ]
  },
  {
   "cell_type": "code",
   "execution_count": 11,
   "metadata": {},
   "outputs": [
    {
     "data": {
      "image/png": "[encoded data removed]",
      "text/plain": [
       "<Figure size 432x288 with 1 Axes>"
      ]
     },
     "metadata": {
      "needs_background": "light"
     },
     "output_type": "display_data"
    }
   ],
   "source": [
    "# Total Car Types claimed for insurance\n",
    "carTypesPlot = sns.countplot(data = DF, x = 'CAR_TYPE')"
   ]
  },
  {
   "cell_type": "code",
   "execution_count": 12,
   "metadata": {},
   "outputs": [
    {
     "data": {
      "image/png": "[encoded data removed]",
      "text/plain": [
       "<Figure size 432x288 with 1 Axes>"
      ]
     },
     "metadata": {
      "needs_background": "light"
     },
     "output_type": "display_data"
    }
   ],
   "source": [
    "# Analyze Total cars used in Urban and Rural areas based on car type.\n",
    "\n",
    "urbanicityPlot = sns.countplot(x=\"CAR_TYPE\", hue=\"URBANICITY\", data=DF)"
   ]
  },
  {
   "cell_type": "code",
   "execution_count": 13,
   "metadata": {},
   "outputs": [
    {
     "data": {
      "text/plain": [
       "<seaborn.axisgrid.FacetGrid at 0x27656054a88>"
      ]
     },
     "execution_count": 13,
     "metadata": {},
     "output_type": "execute_result"
    },
    {
     "data": {
      "image/png": "[encoded data removed]",
      "text/plain": [
       "<Figure size 527.75x432 with 1 Axes>"
      ]
     },
     "metadata": {
      "needs_background": "light"
     },
     "output_type": "display_data"
    }
   ],
   "source": [
    "# Analyze Travel time of the various car types in the commercial and private sectors.\n",
    "\n",
    "travelTimePlot = sns.catplot(data=DF, x='CAR_TYPE', y='TRAVTIME', hue='CAR_USE', kind='bar', height=6)\n",
    "travelTimePlot.set_axis_labels(\"Car Type\", \"Travel Time\")"
   ]
  },
  {
   "cell_type": "markdown",
   "metadata": {},
   "source": [
    "CUSTOMER DETAILS"
   ]
  },
  {
   "cell_type": "code",
   "execution_count": 14,
   "metadata": {},
   "outputs": [
    {
     "data": {
      "text/html": [
       "<div>\n",
       "<style scoped>\n",
       "    .dataframe tbody tr th:only-of-type {\n",
       "        vertical-align: middle;\n",
       "    }\n",
       "\n",
       "    .dataframe tbody tr th {\n",
       "        vertical-align: top;\n",
       "    }\n",
       "\n",
       "    .dataframe thead th {\n",
       "        text-align: right;\n",
       "    }\n",
       "</style>\n",
       "<table border=\"1\" class=\"dataframe\">\n",
       "  <thead>\n",
       "    <tr style=\"text-align: right;\">\n",
       "      <th></th>\n",
       "      <th>EDUCATION</th>\n",
       "      <th>OCCUPATION</th>\n",
       "      <th>MSTATUS</th>\n",
       "      <th>PARENT1</th>\n",
       "      <th>GENDER</th>\n",
       "      <th>BIRTH</th>\n",
       "      <th>AGE</th>\n",
       "      <th>KIDSDRIV</th>\n",
       "      <th>HOMEKIDS</th>\n",
       "      <th>INCOME_</th>\n",
       "      <th>HOME_VAL_</th>\n",
       "    </tr>\n",
       "  </thead>\n",
       "  <tbody>\n",
       "    <tr>\n",
       "      <td>0</td>\n",
       "      <td>PhD</td>\n",
       "      <td>Professional</td>\n",
       "      <td>z_No</td>\n",
       "      <td>No</td>\n",
       "      <td>M</td>\n",
       "      <td>16MAR39</td>\n",
       "      <td>60.0</td>\n",
       "      <td>0</td>\n",
       "      <td>0</td>\n",
       "      <td>67349.0</td>\n",
       "      <td>0.0</td>\n",
       "    </tr>\n",
       "    <tr>\n",
       "      <td>1</td>\n",
       "      <td>z_High School</td>\n",
       "      <td>z_Blue Collar</td>\n",
       "      <td>z_No</td>\n",
       "      <td>No</td>\n",
       "      <td>M</td>\n",
       "      <td>21JAN56</td>\n",
       "      <td>43.0</td>\n",
       "      <td>0</td>\n",
       "      <td>0</td>\n",
       "      <td>91449.0</td>\n",
       "      <td>257252.0</td>\n",
       "    </tr>\n",
       "    <tr>\n",
       "      <td>2</td>\n",
       "      <td>Bachelors</td>\n",
       "      <td>Manager</td>\n",
       "      <td>z_No</td>\n",
       "      <td>No</td>\n",
       "      <td>M</td>\n",
       "      <td>18NOV51</td>\n",
       "      <td>48.0</td>\n",
       "      <td>0</td>\n",
       "      <td>0</td>\n",
       "      <td>52881.0</td>\n",
       "      <td>0.0</td>\n",
       "    </tr>\n",
       "    <tr>\n",
       "      <td>3</td>\n",
       "      <td>z_High School</td>\n",
       "      <td>Clerical</td>\n",
       "      <td>Yes</td>\n",
       "      <td>No</td>\n",
       "      <td>z_F</td>\n",
       "      <td>05MAR64</td>\n",
       "      <td>35.0</td>\n",
       "      <td>0</td>\n",
       "      <td>1</td>\n",
       "      <td>16039.0</td>\n",
       "      <td>124191.0</td>\n",
       "    </tr>\n",
       "    <tr>\n",
       "      <td>5</td>\n",
       "      <td>PhD</td>\n",
       "      <td>Doctor</td>\n",
       "      <td>Yes</td>\n",
       "      <td>No</td>\n",
       "      <td>z_F</td>\n",
       "      <td>17MAY49</td>\n",
       "      <td>50.0</td>\n",
       "      <td>0</td>\n",
       "      <td>0</td>\n",
       "      <td>114986.0</td>\n",
       "      <td>243925.0</td>\n",
       "    </tr>\n",
       "  </tbody>\n",
       "</table>\n",
       "</div>"
      ],
      "text/plain": [
       "       EDUCATION     OCCUPATION MSTATUS PARENT1 GENDER    BIRTH   AGE  \\\n",
       "0            PhD   Professional    z_No      No      M  16MAR39  60.0   \n",
       "1  z_High School  z_Blue Collar    z_No      No      M  21JAN56  43.0   \n",
       "2      Bachelors        Manager    z_No      No      M  18NOV51  48.0   \n",
       "3  z_High School       Clerical     Yes      No    z_F  05MAR64  35.0   \n",
       "5            PhD         Doctor     Yes      No    z_F  17MAY49  50.0   \n",
       "\n",
       "   KIDSDRIV  HOMEKIDS   INCOME_  HOME_VAL_  \n",
       "0         0         0   67349.0        0.0  \n",
       "1         0         0   91449.0   257252.0  \n",
       "2         0         0   52881.0        0.0  \n",
       "3         0         1   16039.0   124191.0  \n",
       "5         0         0  114986.0   243925.0  "
      ]
     },
     "execution_count": 14,
     "metadata": {},
     "output_type": "execute_result"
    }
   ],
   "source": [
    "#Details of Customer\n",
    "cust_data = DF[['EDUCATION','OCCUPATION','MSTATUS','PARENT1','GENDER','BIRTH','AGE','KIDSDRIV','HOMEKIDS','INCOME_','HOME_VAL_']]\n",
    "cust_data.head()"
   ]
  },
  {
   "cell_type": "code",
   "execution_count": 15,
   "metadata": {},
   "outputs": [
    {
     "data": {
      "image/png": "[encoded data removed]",
      "text/plain": [
       "<Figure size 432x288 with 1 Axes>"
      ]
     },
     "metadata": {
      "needs_background": "light"
     },
     "output_type": "display_data"
    }
   ],
   "source": [
    "# Female customers are more educated \n",
    "EducationPlot = sns.countplot(x=\"EDUCATION\", hue=\"GENDER\" , data=DF)"
   ]
  },
  {
   "cell_type": "code",
   "execution_count": 16,
   "metadata": {},
   "outputs": [
    {
     "data": {
      "image/png": "[encoded data removed]",
      "text/plain": [
       "<Figure size 1008x432 with 1 Axes>"
      ]
     },
     "metadata": {},
     "output_type": "display_data"
    }
   ],
   "source": [
    "#define figure size\n",
    "sns.set(rc={\"figure.figsize\":(14, 6)})\n",
    "\n",
    "# convert age into int datatype from float\n",
    "DF['AGE'] = DF['AGE'].astype('int64')\n",
    "\n",
    "# Find out ages of customers\n",
    "AgePlot = sns.countplot( data=DF , x='AGE')"
   ]
  },
  {
   "cell_type": "code",
   "execution_count": 17,
   "metadata": {},
   "outputs": [
    {
     "data": {
      "text/plain": [
       "<seaborn.axisgrid.FacetGrid at 0x27656837c88>"
      ]
     },
     "execution_count": 17,
     "metadata": {},
     "output_type": "execute_result"
    },
    {
     "data": {
      "image/png": "[encoded data removed]",
      "text/plain": [
       "<Figure size 403.2x288 with 1 Axes>"
      ]
     },
     "metadata": {},
     "output_type": "display_data"
    }
   ],
   "source": [
    "# Customer with higher education earning more income\n",
    "CustIncomePlot = sns.catplot(data = DF,x = 'EDUCATION', y = 'INCOME_', height = 4, aspect=1.4)\n",
    "CustIncomePlot.set_axis_labels(\"EDUCATION\", \"INCOME\")"
   ]
  },
  {
   "cell_type": "code",
   "execution_count": null,
   "metadata": {},
   "outputs": [],
   "source": [
    "# Male customers earn more incom than females\n",
    "genderPlot = sns.catplot(data=DF, x='BIRTH', y='INCOME_', hue='GENDER',  kind='bar', height=4)\n",
    "genderPlot.set_axis_labels(\"Gender\", \"Income\")"
   ]
  },
  {
   "cell_type": "code",
   "execution_count": 19,
   "metadata": {},
   "outputs": [
    {
     "data": {
      "image/png": "[encoded data removed]",
      "text/plain": [
       "<Figure size 669.85x360 with 1 Axes>"
      ]
     },
     "metadata": {},
     "output_type": "display_data"
    }
   ],
   "source": [
    "#  customer profession and gender with kids who drive the car  \n",
    "CustOccPlot = sns.catplot(data = DF,x = 'OCCUPATION', y='KIDSDRIV', hue='GENDER',kind='bar',height=5, aspect=1.7)"
   ]
  },
  {
   "cell_type": "code",
   "execution_count": 20,
   "metadata": {},
   "outputs": [
    {
     "data": {
      "text/html": [
       "<div>\n",
       "<style scoped>\n",
       "    .dataframe tbody tr th:only-of-type {\n",
       "        vertical-align: middle;\n",
       "    }\n",
       "\n",
       "    .dataframe tbody tr th {\n",
       "        vertical-align: top;\n",
       "    }\n",
       "\n",
       "    .dataframe thead th {\n",
       "        text-align: right;\n",
       "    }\n",
       "</style>\n",
       "<table border=\"1\" class=\"dataframe\">\n",
       "  <thead>\n",
       "    <tr style=\"text-align: right;\">\n",
       "      <th></th>\n",
       "      <th>OLDCLAIM_</th>\n",
       "      <th>CLM_FREQ</th>\n",
       "      <th>CLM_AMT_</th>\n",
       "      <th>CLAIM_FLAG</th>\n",
       "    </tr>\n",
       "  </thead>\n",
       "  <tbody>\n",
       "    <tr>\n",
       "      <td>0</td>\n",
       "      <td>4461.0</td>\n",
       "      <td>2</td>\n",
       "      <td>0.0</td>\n",
       "      <td>0</td>\n",
       "    </tr>\n",
       "    <tr>\n",
       "      <td>1</td>\n",
       "      <td>0.0</td>\n",
       "      <td>0</td>\n",
       "      <td>0.0</td>\n",
       "      <td>0</td>\n",
       "    </tr>\n",
       "    <tr>\n",
       "      <td>2</td>\n",
       "      <td>0.0</td>\n",
       "      <td>0</td>\n",
       "      <td>0.0</td>\n",
       "      <td>0</td>\n",
       "    </tr>\n",
       "    <tr>\n",
       "      <td>3</td>\n",
       "      <td>38690.0</td>\n",
       "      <td>2</td>\n",
       "      <td>0.0</td>\n",
       "      <td>0</td>\n",
       "    </tr>\n",
       "    <tr>\n",
       "      <td>5</td>\n",
       "      <td>19217.0</td>\n",
       "      <td>2</td>\n",
       "      <td>0.0</td>\n",
       "      <td>0</td>\n",
       "    </tr>\n",
       "  </tbody>\n",
       "</table>\n",
       "</div>"
      ],
      "text/plain": [
       "   OLDCLAIM_  CLM_FREQ  CLM_AMT_  CLAIM_FLAG\n",
       "0     4461.0         2       0.0           0\n",
       "1        0.0         0       0.0           0\n",
       "2        0.0         0       0.0           0\n",
       "3    38690.0         2       0.0           0\n",
       "5    19217.0         2       0.0           0"
      ]
     },
     "execution_count": 20,
     "metadata": {},
     "output_type": "execute_result"
    }
   ],
   "source": [
    "#Details of Claims\n",
    "claim_data = DF[['OLDCLAIM_','CLM_FREQ','CLM_AMT_','CLAIM_FLAG']]\n",
    "claim_data.head()"
   ]
  },
  {
   "cell_type": "code",
   "execution_count": 21,
   "metadata": {},
   "outputs": [
    {
     "data": {
      "text/plain": [
       "<seaborn.axisgrid.FacetGrid at 0x276566569c8>"
      ]
     },
     "execution_count": 21,
     "metadata": {},
     "output_type": "execute_result"
    },
    {
     "data": {
      "image/png": "[encoded data removed]",
      "text/plain": [
       "<Figure size 530.725x432 with 1 Axes>"
      ]
     },
     "metadata": {},
     "output_type": "display_data"
    }
   ],
   "source": [
    "# Analyze insurance claim amount of the various car types in the commercial and private sectors.\n",
    "\n",
    "carUseClaimPlot = sns.catplot(data=DF, x='CAR_TYPE', y='CLM_AMT_', hue='CAR_USE', kind='bar', height=6)\n",
    "carUseClaimPlot.set_axis_labels(\"CAR_TYPE\", \"CLAIM_AMOUNT\")"
   ]
  },
  {
   "cell_type": "code",
   "execution_count": 22,
   "metadata": {},
   "outputs": [
    {
     "data": {
      "image/png": "[encoded data removed]",
      "text/plain": [
       "<Figure size 432x288 with 1 Axes>"
      ]
     },
     "metadata": {},
     "output_type": "display_data"
    }
   ],
   "source": [
    "#define figure size\n",
    "sns.set(rc={\"figure.figsize\":(6, 4)})\n",
    "\n",
    "# Analyze insurance old claim amount of the various car types in the commercial and private sectors.\n",
    "carUseClaimPlot = sns.scatterplot(data=DF, x='CAR_TYPE', y='OLDCLAIM_', palette=\"hot\", hue=\"CAR_USE\", style = \"CAR_USE\")\n"
   ]
  },
  {
   "cell_type": "code",
   "execution_count": 25,
   "metadata": {},
   "outputs": [
    {
     "data": {
      "image/png": "[encoded data removed]",
      "text/plain": [
       "<Figure size 489.85x432 with 1 Axes>"
      ]
     },
     "metadata": {},
     "output_type": "display_data"
    }
   ],
   "source": [
    "# Analyze insurance claim frequency of the various car types \n",
    "carUseClaimPlot = sns.catplot(data=DF, x='CAR_TYPE', y='CLM_FREQ',hue='GENDER' ,kind='bar',height=6)"
   ]
  },
  {
   "cell_type": "code",
   "execution_count": null,
   "metadata": {},
   "outputs": [],
   "source": []
  }
 ],
 "metadata": {
  "kernelspec": {
   "display_name": "Python 3 (ipykernel)",
   "language": "python",
   "name": "python3"
  },
  "language_info": {
   "codemirror_mode": {
    "name": "ipython",
    "version": 3
   },
   "file_extension": ".py",
   "mimetype": "text/x-python",
   "name": "python",
   "nbconvert_exporter": "python",
   "pygments_lexer": "ipython3",
   "version": "3.9.12"
  }
 },
 "nbformat": 4,
 "nbformat_minor": 2
}
